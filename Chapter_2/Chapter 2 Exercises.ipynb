{
 "cells": [
  {
   "cell_type": "markdown",
   "metadata": {},
   "source": [
    "## Exercise 1\n",
    "\n",
    "**Write regular expressions for the following:**\n",
    "1. The set of all alphabetic strings.\n",
    "2. The set of all lowercase alphabetic strings ending in a *b*.\n",
    "3. The set of all strings from the alphabet a,b such that each *a* is immediately preceded by and immediately followed by a *b*.<br>\n",
    "<br>\n",
    "\n",
    "    * [A-Za-z]+\n",
    "    * [a-z]+b\n",
    "    * (b+(ab+)*)*"
   ]
  },
  {
   "cell_type": "markdown",
   "metadata": {},
   "source": [
    "## Exercise 2\n",
    "\n",
    "**Write regular expressions for the following languages. By \"word\" we mean an alphabetic string separated from other words by whitespace, any relevant punctuation, line breaks etc.**\n",
    "\n",
    "1. The set of all strings with two consecutive repeated words (e.g. \"Humbert Humbert\", \"the the\" but not \"the bug\" or \"the big bug\").\n",
    "2. All strings that start at the beginning of the line with an integer and that end at the end of the line with a word.\n",
    "3. All strings that have both *grotto* and *raven* in them (but not e.g. *grottos* that merely contain the word *grotto*). \n",
    "4. Write a pattern that places the first word of an English sentence in a register. Deal with punctuation.<br>\n",
    "<br>\n",
    "\n",
    "    * ([A-Za-z]+)\\s\\1\n",
    "    * (^[0-9]+)\\s.+([A-Za-z](Dollar_Sign))\n",
    "    * .*(grotto|raven+?)(!s\\b|\\b).*(raven|grotto+?)(!s\\b|\\b).*\n",
    "    * (^[A-Z]([a-z]?)+)"
   ]
  },
  {
   "cell_type": "code",
   "execution_count": null,
   "metadata": {},
   "outputs": [],
   "source": []
  }
 ],
 "metadata": {
  "kernelspec": {
   "display_name": "Python 3",
   "language": "python",
   "name": "python3"
  },
  "language_info": {
   "codemirror_mode": {
    "name": "ipython",
    "version": 3
   },
   "file_extension": ".py",
   "mimetype": "text/x-python",
   "name": "python",
   "nbconvert_exporter": "python",
   "pygments_lexer": "ipython3",
   "version": "3.6.7"
  }
 },
 "nbformat": 4,
 "nbformat_minor": 2
}
