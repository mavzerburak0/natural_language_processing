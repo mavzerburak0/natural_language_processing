{
 "cells": [
  {
   "cell_type": "markdown",
   "metadata": {},
   "source": [
    "## Exercise 1\n",
    "\n",
    "**Write regular expressions for the following:**\n",
    "1. The set of all alphabetic strings.\n",
    "2. The set of all lowercase alphabetic strings ending in a *b*.\n",
    "3. The set of all strings from the alphabet a,b such that each *a* is immediately preceded by and immediately followed by a *b*.<br>\n",
    "<br>\n",
    "\n",
    "    * [A-Za-z]+\n",
    "    * [a-z]+b\n",
    "    * (b+(ab+)*)*"
   ]
  },
  {
   "cell_type": "code",
   "execution_count": null,
   "metadata": {},
   "outputs": [],
   "source": []
  }
 ],
 "metadata": {
  "kernelspec": {
   "display_name": "Python 3",
   "language": "python",
   "name": "python3"
  },
  "language_info": {
   "codemirror_mode": {
    "name": "ipython",
    "version": 3
   },
   "file_extension": ".py",
   "mimetype": "text/x-python",
   "name": "python",
   "nbconvert_exporter": "python",
   "pygments_lexer": "ipython3",
   "version": "3.6.7"
  }
 },
 "nbformat": 4,
 "nbformat_minor": 2
}
